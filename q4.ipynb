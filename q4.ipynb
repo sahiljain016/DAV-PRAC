import numpy as np
import pandas as pd

dfDay1 = pd.read_excel('Day1_himanshu.xlsx')
dfDay2 = pd.read_excel('Day2_himanshu.xlsx')
print(dfDay1.head(),"\n")
print(dfDay2.head())

# a) Perform merging of the two dataframes to find the names of students who had attended the workshop on both days.

pd.merge(dfDay1,dfDay2,how='inner',on='Name')

# b) Find names of all students who have attended workshop on either of the days.

either_day = pd.merge(dfDay1,dfDay2,how='outer',on='Name')
either_day

# c) Merge two data frames row-wise and find the total number of records in the data frame.
#using the either day from part b

either_day['Name'].count() 

# d) Merge two data frames and use two columns names and duration as multi-row indexes. 
#Generate descriptive statistics for this multi-index
both_days = pd.merge(dfDay1,dfDay2,how='outer',on=['Name','Duration']).copy() #  creates a copy of an existing list

both_days.fillna(value='-',inplace=True) # to fill out the missing values in the given series object

both_days.set_index(['Name','Duration']) # a method to set a List as index of a Data Frame