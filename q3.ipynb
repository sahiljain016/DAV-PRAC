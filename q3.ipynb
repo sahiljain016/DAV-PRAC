import pandas as pd
import numpy as np

df = pd.DataFrame(np.random.randint(1,100,(50,3)), columns = list("123"))
print(df.head())

for c in df.sample(int(df.shape[0]*df.shape[1]*0.10)).index:
    df.loc[c,str(np.random.randint(1,4))] = np.nan
print(df)

#Part A
print("\n\nAll missing values: ", df.isnull().sum().sum())
print("Column wise missing values:\n ", df.isnull().sum())

#Part B
print("\n\nNew Df: \n", df.dropna(axis = 1,thresh = ( df.shape[0]-5)).head())

#Part C
maxRow = df.sum(axis = 1).idxmax()
print("\n\nRow having maximum sum: ", maxRow)
df = df.drop(maxRow, axis = 0)
print("New df:\n", df)

#Part D
sortedDf = df.sort_values('1')
print("\n\nSorted df on first column:\n",sortedDf )

#Part E
df = df.drop_duplicates(subset = "1", keep = "first")
print("\n\nNew df:\n", df)

#Part F
corr = df['1'].corr(df['2'])
print("\n\nCorrelation between 1 and 2: ", corr)
cov = df['2'].cov(df['3'])
print("Covariance between 2 and 3: ", cov)

#Part G
df.plot.box()

#Part H
df1 = pd.cut(df['2'], bins = 5).head()
print(df1)

